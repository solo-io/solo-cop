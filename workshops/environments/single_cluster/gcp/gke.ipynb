{
 "cells": [
  {
   "cell_type": "markdown",
   "metadata": {},
   "source": [
    "## Deploy GKE Cluster\n",
    "\n",
    "Set the context environment variables:"
   ]
  },
  {
   "cell_type": "markdown",
   "metadata": {},
   "source": [
    "Deploy the GKE cluster:"
   ]
  },
  {
   "cell_type": "code",
   "execution_count": null,
   "metadata": {
    "vscode": {
     "languageId": "shellscript"
    }
   },
   "outputs": [],
   "source": [
    "export PROJECT_ID=$GCP_PROJECT_ID\n",
    "export CLUSTER1_NAME=$(whoami)-cluster1\n",
    "export CLUSTER_ZONE=us-central1-a"
   ]
  },
  {
   "cell_type": "code",
   "execution_count": null,
   "metadata": {
    "vscode": {
     "languageId": "shellscript"
    }
   },
   "outputs": [],
   "source": [
    "gcloud container clusters create $CLUSTER1_NAME \\\n",
    "  --project $PROJECT_ID \\\n",
    "  --zone $CLUSTER_ZONE \\\n",
    "  --num-nodes 1 \\\n",
    "  --machine-type e2-standard-4 \\\n",
    "  --disk-size 100GB \\\n",
    "  --no-enable-autoscaling \\\n",
    "  --labels=creator=$(whoami),purpose=testing,ttl=24h"
   ]
  },
  {
   "cell_type": "code",
   "execution_count": null,
   "metadata": {
    "vscode": {
     "languageId": "shellscript"
    }
   },
   "outputs": [],
   "source": [
    "gcloud container clusters get-credentials $CLUSTER1_NAME --zone $CLUSTER_ZONE"
   ]
  },
  {
   "cell_type": "code",
   "execution_count": null,
   "metadata": {
    "vscode": {
     "languageId": "shellscript"
    }
   },
   "outputs": [],
   "source": [
    "export CLUSTER1=$(kubectl config current-context)\n",
    "echo \"export CLUSTER1=$CLUSTER1\""
   ]
  },
  {
   "cell_type": "markdown",
   "metadata": {},
   "source": [
    "## Delete Cluster\n",
    "\n",
    "Below is the `gcloud` command to delete the cluster. Uncomment and run when you are done with the lab. Be sure to run the first code block that sets the environment variables before running."
   ]
  },
  {
   "cell_type": "code",
   "execution_count": null,
   "metadata": {
    "vscode": {
     "languageId": "shellscript"
    }
   },
   "outputs": [
    {
     "name": "stdout",
     "output_type": "stream",
     "text": [
      "                                                                               \r"
     ]
    }
   ],
   "source": [
    "#gcloud container clusters delete $CLUSTER1_NAME --zone $CLUSTER_ZONE --project $PROJECT_ID --quiet"
   ]
  }
 ],
 "metadata": {
  "kernelspec": {
   "display_name": "Bash",
   "language": "bash",
   "name": "bash"
  },
  "language_info": {
   "codemirror_mode": "shell",
   "file_extension": ".sh",
   "mimetype": "text/x-sh",
   "name": "bash"
  }
 },
 "nbformat": 4,
 "nbformat_minor": 4
}
