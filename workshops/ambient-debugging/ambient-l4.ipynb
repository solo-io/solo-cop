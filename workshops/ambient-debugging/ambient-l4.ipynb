{
 "cells": [
  {
   "cell_type": "markdown",
   "metadata": {},
   "source": [
    "# Debugging Ambient L4 Workshop\n",
    "\n",
    "![Architecture](./images/ambient-ztunnel-arch.png)\n",
    "\n",
    "This workshop provides a comprehensive understanding of Ambient Mode's components, their interactions, and how to effectively monitor and troubleshoot the service mesh. By the end, you'll be able to confidently deploy and maintain an Ambient Mode installation in your environment.\n",
    "\n",
    "## Links\n",
    "\n",
    "1. Ambient Mesh overview - https://istio.io/latest/docs/ambient/\n",
    "2. Ambient Mesh documentation - https://ambientmesh.io/docs\n",
    "3. zTunnel - https://github.com/istio/istio/blob/master/architecture/ambient/ztunnel.md\n",
    "\n",
    "## Tools\n",
    "\n",
    "1. [Install](https://kind.sigs.k8s.io/docs/user/quick-start/#installation) `kind`\n",
    "2. Install latest Istioctl (1.25+) - `curl -L https://istio.io/downloadIstio | sh -`\n",
    "\n",
    "## Deploy a Kubernetes Cluster\n",
    "\n",
    "You have a few options for setting up your environment:\n",
    "\n",
    "- [kind cluster on a mac](../environments/single_cluster/mac/kind.ipynb)\n",
    "- [gke](../environments/single_cluster/gcp/gke.ipynb)\n",
    "- [aws](../environments/single_cluster/aws/aws.ipynb)"
   ]
  },
  {
   "cell_type": "markdown",
   "metadata": {},
   "source": [
    "2. Verify the cluster is up and running and is ready for Istio installation with the following command."
   ]
  },
  {
   "cell_type": "code",
   "execution_count": 1,
   "metadata": {
    "vscode": {
     "languageId": "shellscript"
    }
   },
   "outputs": [],
   "source": [
    "# change the path to kubeconfig file for the cluster you are using\n",
    "# for example, if you are using the default kubeconfig, the path is ~/.kube/config\n",
    "export KUBECONFIG=~/.kube/config"
   ]
  },
  {
   "cell_type": "code",
   "execution_count": 3,
   "metadata": {
    "vscode": {
     "languageId": "shellscript"
    }
   },
   "outputs": [
    {
     "name": "stdout",
     "output_type": "stream",
     "text": [
      "\u001b[32m✔\u001b[0m No issues found when checking the cluster. Istio is safe to install or upgrade!\n",
      "  To get started, check out https://istio.io/latest/docs/setup/getting-started/.\n"
     ]
    }
   ],
   "source": [
    "istioctl x precheck"
   ]
  },
  {
   "cell_type": "markdown",
   "metadata": {},
   "source": [
    "## Install Solo Istio Ambient Mode\n",
    "\n",
    "Istio Ambient Mode is a new architecture and approach to service mesh that eliminates the need for sidecar proxies while maintaining the core benefits of service mesh functionality. The installation process involves several key components: the Istio control plane (istiod), the CNI plugin for pod networking, and zTunnel for secure L4 communication. This installation will set up an Ambient Mode environment that enables zero-trust security and observability without the overhead of traditional sidecar-based deployments.\n",
    "\n",
    "Ambient Components:\n",
    "* **Istio Control Plane (istiod)**: Manages the service mesh configuration, handles service discovery, and coordinates the overall mesh behavior. It's responsible for distributing configuration to other components and managing the mesh's control plane functionality.\n",
    "* **CNI Plugin**: Handles pod networking and ensures proper network configuration for pods in the mesh. It's responsible for setting up the necessary network interfaces and routing rules to enable ambient mode networking.\n",
    "* [**zTunnel**](https://github.com/solo-io/ztunnel/blob/build/release-1.25/README.md): Provides secure L4 (transport layer) communication between services. It handles mTLS encryption, authentication, and secure tunneling of traffic between services, ensuring zero-trust security at the infrastructure level.\n",
    "* **Waypoint Proxy** (optional): Provides L7 (application layer) capabilities when needed, such as advanced traffic management, observability, and security features. It can be deployed on-demand for services that require these additional capabilities.\n",
    "\n",
    "### Install Istio Control Plane\n",
    "\n",
    "The Istio Control Plane installation consists of two main components:\n",
    "\n",
    "1. **Istio Base**: The foundation layer that installs the necessary Custom Resource Definitions (CRDs) and other base components required for the service mesh to function. This includes the core Istio APIs and configuration resources.\n",
    "2. **Istiod**: The control plane component that manages the service mesh. It's responsible for:\n",
    "  * Service discovery and configuration distribution\n",
    "  * Certificate management and mTLS\n",
    "  * Traffic management policies\n",
    "  * Security policies\n",
    "  * Mesh configuration\n",
    "\n",
    "The Solo.io build of Istio includes several enhancements over the upstream version:\n",
    "\n",
    "* **Enhanced L7 Telemetry**: Built-in support for detailed application-layer observability, including:\n",
    "  * HTTP/gRPC request/response metrics\n",
    "  * Detailed access logs\n",
    "  * Distributed tracing integration\n",
    "  * Custom metrics collection\n",
    "\n",
    "* **Enterprise Features**: Additional capabilities like:\n",
    "  * Advanced security features\n",
    "  * Improved multi-cluster support\n",
    "  * Enhanced debugging tools\n",
    "  * Production-grade support"
   ]
  },
  {
   "cell_type": "code",
   "execution_count": 4,
   "metadata": {
    "vscode": {
     "languageId": "shellscript"
    }
   },
   "outputs": [
    {
     "name": "stdout",
     "output_type": "stream",
     "text": [
      "Release \"istio-base\" does not exist. Installing it now.\n",
      "Pulled: us-docker.pkg.dev/soloio-img/istio-helm/base:1.25.2-solo\n",
      "Digest: sha256:8b406ef33bd26e333dcb90be0c2080fb0dc4b8f7f45b62dc01217ff68a4dca61\n",
      "NAME: istio-base\n",
      "LAST DEPLOYED: Wed May 21 12:19:28 2025\n",
      "NAMESPACE: istio-system\n",
      "STATUS: deployed\n",
      "REVISION: 1\n",
      "TEST SUITE: None\n",
      "NOTES:\n",
      "Istio base successfully installed!\n",
      "\n",
      "To learn more about the release, try:\n",
      "  $ helm status istio-base -n istio-system\n",
      "  $ helm get all istio-base -n istio-system\n",
      "Release \"istiod\" does not exist. Installing it now.\n",
      "Pulled: us-docker.pkg.dev/soloio-img/istio-helm/istiod:1.25.2-solo\n",
      "Digest: sha256:f3383bb86852a82794d53f50c66ec4132891ce1a0ec7abba117e1f5f090255ef\n",
      "NAME: istiod\n",
      "LAST DEPLOYED: Wed May 21 12:19:33 2025\n",
      "NAMESPACE: istio-system\n",
      "STATUS: deployed\n",
      "REVISION: 1\n",
      "TEST SUITE: None\n",
      "NOTES:\n",
      "\"istiod\" successfully installed!\n",
      "\n",
      "To learn more about the release, try:\n",
      "  $ helm status istiod -n istio-system\n",
      "  $ helm get all istiod -n istio-system\n",
      "\n",
      "Next steps:\n",
      "  * Get started with ambient: https://istio.io/latest/docs/ops/ambient/getting-started/\n",
      "  * Review ambient's architecture: https://istio.io/latest/docs/ops/ambient/architecture/\n",
      "  * Review the list of actively supported releases, CVE publications and our hardening guide:\n",
      "    * https://istio.io/latest/docs/releases/supported-releases/\n",
      "    * https://istio.io/latest/news/security/\n",
      "    * https://istio.io/latest/docs/ops/best-practices/security/\n",
      "\n",
      "For further documentation see https://istio.io website\n"
     ]
    }
   ],
   "source": [
    "# Set Istio Version\n",
    "export ISTIO_VER=1.25.2\n",
    "export ISTIO_HELM_CHART=oci://us-docker.pkg.dev/soloio-img/istio-helm\n",
    "export ISTIO_REPO=us-docker.pkg.dev/soloio-img/istio\n",
    "\n",
    "# Install Istio Base\n",
    "helm upgrade -i istio-base \"$ISTIO_HELM_CHART\"/base                           \\\n",
    "    --version \"${ISTIO_VER}-solo\"                                             \\\n",
    "    --namespace istio-system                                                  \\\n",
    "    --create-namespace                                                        \\\n",
    "    --wait\n",
    "\n",
    "# Install Istio Control Plane\n",
    "helm upgrade -i istiod \"$ISTIO_HELM_CHART\"/istiod                             \\\n",
    "    --version \"${ISTIO_VER}-solo\"                                             \\\n",
    "    --namespace istio-system                                                  \\\n",
    "    --set profile=ambient                                                     \\\n",
    "    --set license.value=$GLOO_MESH_LICENSE_KEY                                \\\n",
    "    --set \"hub=${ISTIO_REPO}\"                                                 \\\n",
    "    --set \"tag=${ISTIO_VER}-solo\"                                             \\\n",
    "    --wait"
   ]
  },
  {
   "cell_type": "markdown",
   "metadata": {},
   "source": [
    "### Install Istio Dataplane\n",
    "\n",
    "![zTunnel Architecture](./images/ztunnel-architecture.png)\n",
    "\n",
    "The Istio Dataplane installation in Ambient Mode consists of two critical components that work together to provide secure, efficient service-to-service communication.\n",
    "\n",
    "1. **Istio CNI Plugin**:\n",
    "  * Handles pod networking configuration at the node level\n",
    "  * Sets up the necessary network interfaces and routing rules\n",
    "  * Enables transparent traffic interception for Ambient Mode\n",
    "  * Configures DNS capture for service discovery\n",
    "  * Manages network policies and security rules\n",
    "2. **zTunnel**:\n",
    "  * Provides secure L4 (transport layer) communication\n",
    "  * Implements zero-trust security principles\n",
    "  * Handles mTLS encryption and authentication\n",
    "  * Manages secure tunneling between services\n",
    "  * Provides connection-level observability\n",
    "\n",
    "Key Features:\n",
    "* **Zero-Trust Security**: Built-in mTLS encryption for all service-to-service communication\n",
    "* **Efficient Resource Usage**: No sidecar proxies required, reducing resource overhead\n",
    "* **Transparent Operation**: Services communicate without awareness of the mesh\n",
    "* **L4 Observability**: Connection-level metrics and logging\n",
    "* **DNS Integration**: Automatic service discovery through DNS capture\n",
    "\n",
    "> You can ignore the following warning `deprecated since v1.30; use the \"appArmorProfile\" field instead` as it will be fixed in later versions. "
   ]
  },
  {
   "cell_type": "code",
   "execution_count": 5,
   "metadata": {
    "vscode": {
     "languageId": "shellscript"
    }
   },
   "outputs": [
    {
     "name": "stdout",
     "output_type": "stream",
     "text": [
      "Release \"istio-cni\" does not exist. Installing it now.\n",
      "Pulled: us-docker.pkg.dev/soloio-img/istio-helm/cni:1.25.2-solo\n",
      "Digest: sha256:5c6e4decd08c47414cad3d84011df4ccb5451bce03160efa550cb3baf15a8ca7\n",
      "W0521 12:19:48.830212   47417 warnings.go:70] spec.template.metadata.annotations[container.apparmor.security.beta.kubernetes.io/install-cni]: deprecated since v1.30; use the \"appArmorProfile\" field instead\n",
      "NAME: istio-cni\n",
      "LAST DEPLOYED: Wed May 21 12:19:48 2025\n",
      "NAMESPACE: istio-system\n",
      "STATUS: deployed\n",
      "REVISION: 1\n",
      "TEST SUITE: None\n",
      "NOTES:\n",
      "\"istio-cni\" successfully installed!\n",
      "\n",
      "To learn more about the release, try:\n",
      "  $ helm status istio-cni -n istio-system\n",
      "  $ helm get all istio-cni -n istio-system\n",
      "Release \"ztunnel\" does not exist. Installing it now.\n",
      "Pulled: us-docker.pkg.dev/soloio-img/istio-helm/ztunnel:1.25.2-solo\n",
      "Digest: sha256:c413d0e09d928c8faf92aaa36ea57324d30b0406e26274f0b93b641b08f28bb2\n",
      "NAME: ztunnel\n",
      "LAST DEPLOYED: Wed May 21 12:19:59 2025\n",
      "NAMESPACE: istio-system\n",
      "STATUS: deployed\n",
      "REVISION: 1\n",
      "TEST SUITE: None\n",
      "NOTES:\n",
      "ztunnel successfully installed!\n",
      "\n",
      "To learn more about the release, try:\n",
      "  $ helm status ztunnel -n istio-system\n",
      "  $ helm get all ztunnel -n istio-system\n"
     ]
    }
   ],
   "source": [
    "# Install Istio CNI Plugin\n",
    "helm upgrade -i istio-cni \"$ISTIO_HELM_CHART\"/cni                             \\\n",
    "    --version \"${ISTIO_VER}-solo\"                                             \\\n",
    "    --namespace istio-system                                                  \\\n",
    "    --set profile=ambient                                                     \\\n",
    "    --set \"hub=${ISTIO_REPO}\"                                                 \\\n",
    "    --set \"tag=${ISTIO_VER}-solo\"                                             \\\n",
    "    --set \"ambient.dnsCapture=true\"                                           \\\n",
    "    --wait\n",
    "\n",
    "# Install zTunnel\n",
    "helm upgrade -i ztunnel \"$ISTIO_HELM_CHART\"/ztunnel                           \\\n",
    "    --version \"${ISTIO_VER}-solo\"                                             \\\n",
    "    --namespace istio-system                                                  \\\n",
    "    --set \"hub=${ISTIO_REPO}\"                                                 \\\n",
    "    --set \"tag=${ISTIO_VER}-solo\"                                             \\\n",
    "    --set profile=ambient                                                     \\\n",
    "    --wait"
   ]
  },
  {
   "cell_type": "markdown",
   "metadata": {},
   "source": []
  },
  {
   "cell_type": "markdown",
   "metadata": {},
   "source": [
    "### Install Observability Tools\n",
    "\n",
    "In this section, we'll install the standard Istio observability stack to help visualize and monitor the service mesh. This includes:\n",
    "* **Prometheus**: For metrics collection and storage\n",
    "* **Grafana**: For metrics visualization and dashboards\n",
    "* **Kiali**: For service mesh visualization and management\n",
    "* **Metrics Server**: For Kubernetes metrics collection\n",
    "\n",
    "> Note: The observability stack installed here is the default development configuration provided by Istio. While these tools are excellent for development, testing, and debugging, they are not configured for production use. In a production environment, you would want to:\n",
    "> * Configure proper resource limits and requests\n",
    "> * Set up persistent storage\n",
    "> * Implement proper security controls\n",
    "> * Configure high availability\n",
    "> * Use production-grade monitoring solutions\n",
    "\n",
    "For production deployments, consider using:\n",
    "* Enterprise monitoring solutions\n",
    "* Managed observability services\n",
    "* Custom-configured Prometheus with proper scaling\n",
    "* Production-grade Grafana with proper authentication and authorization\n",
    "\n",
    "\n",
    "Components:\n",
    "* Grafana - https://istio.io/latest/docs/ops/integrations/grafana/ \n",
    "* Kiali - https://istio.io/latest/docs/ops/integrations/kiali/\n",
    "* Prometheus - https://istio.io/latest/docs/ops/integrations/prometheus/"
   ]
  },
  {
   "cell_type": "code",
   "execution_count": 6,
   "metadata": {
    "vscode": {
     "languageId": "shellscript"
    }
   },
   "outputs": [
    {
     "name": "stdout",
     "output_type": "stream",
     "text": [
      "serviceaccount/metrics-server created\n",
      "clusterrole.rbac.authorization.k8s.io/system:aggregated-metrics-reader created\n",
      "clusterrole.rbac.authorization.k8s.io/system:metrics-server created\n",
      "rolebinding.rbac.authorization.k8s.io/metrics-server-auth-reader created\n",
      "clusterrolebinding.rbac.authorization.k8s.io/metrics-server:system:auth-delegator created\n",
      "clusterrolebinding.rbac.authorization.k8s.io/system:metrics-server created\n",
      "service/metrics-server created\n",
      "deployment.apps/metrics-server created\n",
      "apiservice.apiregistration.k8s.io/v1beta1.metrics.k8s.io created\n",
      "serviceaccount/prometheus created\n",
      "configmap/prometheus created\n",
      "clusterrole.rbac.authorization.k8s.io/prometheus created\n",
      "clusterrolebinding.rbac.authorization.k8s.io/prometheus created\n",
      "service/prometheus created\n",
      "deployment.apps/prometheus created\n",
      "serviceaccount/kiali created\n",
      "configmap/kiali created\n",
      "clusterrole.rbac.authorization.k8s.io/kiali created\n",
      "clusterrolebinding.rbac.authorization.k8s.io/kiali created\n",
      "service/kiali created\n",
      "deployment.apps/kiali created\n",
      "serviceaccount/grafana created\n",
      "configmap/grafana created\n",
      "service/grafana created\n",
      "deployment.apps/grafana created\n",
      "configmap/istio-grafana-dashboards created\n",
      "configmap/istio-services-grafana-dashboards created\n"
     ]
    }
   ],
   "source": [
    "kubectl apply -f data/metrics-server.yaml\n",
    "kubectl apply -f https://raw.githubusercontent.com/istio/istio/release-1.25/samples/addons/prometheus.yaml\n",
    "kubectl apply -f https://raw.githubusercontent.com/istio/istio/release-1.25/samples/addons/kiali.yaml\n",
    "kubectl apply -f https://raw.githubusercontent.com/istio/istio/release-1.25/samples/addons/grafana.yaml"
   ]
  },
  {
   "cell_type": "markdown",
   "metadata": {},
   "source": [
    "### Verify Installation\n",
    "\n",
    "Verify that the monitoring components were installed correctly."
   ]
  },
  {
   "cell_type": "code",
   "execution_count": 18,
   "metadata": {
    "vscode": {
     "languageId": "shellscript"
    }
   },
   "outputs": [
    {
     "name": "stdout",
     "output_type": "stream",
     "text": [
      "NAME                         READY   STATUS    RESTARTS   AGE\n",
      "grafana-65bfb5f855-fx7zq     1/1     Running   0          19s\n",
      "istio-cni-node-bxtzs         1/1     Running   0          72s\n",
      "istio-cni-node-jwscd         1/1     Running   0          72s\n",
      "istio-cni-node-kvhpp         1/1     Running   0          72s\n",
      "istiod-7c7b6f55f-8mtcx       1/1     Running   0          87s\n",
      "kiali-5945954ff9-gbhww       0/1     Running   0          19s\n",
      "prometheus-65db697fd-mmsvg   2/2     Running   0          19s\n",
      "ztunnel-9fkbn                1/1     Running   0          61s\n",
      "ztunnel-9xwrj                1/1     Running   0          61s\n",
      "ztunnel-rsmjz                1/1     Running   0          61s\n"
     ]
    }
   ],
   "source": [
    "kubectl get pods -n istio-system"
   ]
  },
  {
   "cell_type": "markdown",
   "metadata": {},
   "source": [
    "## Install Applications\n",
    "\n",
    "We are going to install a client and server application to communicate with each other. These applications will deploy to separate nodes so that we can show the communication path utilizing multiple zTunnel Proxies. The test applications will consist of a client running on one node which makes calls to a server running on another node. A traffic generator has also been deployed to constantly trigger the client to make calls to the server. \n",
    "\n",
    "We will deploy the applications first without service mesh and test their connectivity. In the next exercise we will add zTunnel interception and observe."
   ]
  },
  {
   "cell_type": "code",
   "execution_count": 19,
   "metadata": {
    "vscode": {
     "languageId": "shellscript"
    }
   },
   "outputs": [
    {
     "name": "stdout",
     "output_type": "stream",
     "text": [
      "namespace/client created\n",
      "namespace/server created\n",
      "serviceaccount/client created\n",
      "service/client created\n",
      "deployment.apps/client created\n",
      "serviceaccount/server created\n",
      "service/server created\n",
      "deployment.apps/server created\n",
      "pod/traffic-generator created\n"
     ]
    }
   ],
   "source": [
    "# Deploy applications\n",
    "kubectl create namespace client\n",
    "kubectl create namespace server\n",
    "kubectl apply -f data/client.yaml -n client --wait\n",
    "kubectl apply -f data/server.yaml -n server --wait\n",
    "kubectl apply -f data/traffic-gen-pod.yaml"
   ]
  },
  {
   "cell_type": "markdown",
   "metadata": {},
   "source": [
    "### Verify communication\n",
    "\n",
    "Let's connect to the client pod and start to make requests to the server to verify connectivity."
   ]
  },
  {
   "cell_type": "code",
   "execution_count": 21,
   "metadata": {
    "vscode": {
     "languageId": "shellscript"
    }
   },
   "outputs": [
    {
     "name": "stdout",
     "output_type": "stream",
     "text": [
      "{\n",
      "  \"name\": \"server\",\n",
      "  \"uri\": \"/hello\",\n",
      "  \"type\": \"HTTP\",\n",
      "  \"ip_addresses\": [\n",
      "    \"10.244.2.8\"\n",
      "  ],\n",
      "  \"start_time\": \"2025-05-21T17:21:29.831167\",\n",
      "  \"end_time\": \"2025-05-21T17:21:29.833223\",\n",
      "  \"duration\": \"2.055583ms\",\n",
      "  \"body\": \"Hello from the server service.\",\n",
      "  \"code\": 200\n",
      "}\n"
     ]
    }
   ],
   "source": [
    "kubectl exec -it -n client -c client $(kubectl get pod -n client -l app=client -o jsonpath='{.items[0].metadata.name}') -- sh -c \"curl -s http://server.server.svc.cluster.local:8080/hello\""
   ]
  },
  {
   "cell_type": "markdown",
   "metadata": {},
   "source": [
    "### Enable Ambient on client and server namespace\n",
    "\n",
    "![zTunnel](./images/ztunnel.png)\n",
    "\n",
    "Enabling Ambient Mode on a namespace fundamentally changes how traffic flows between services. Here's what happens when we add the `istio.io/dataplane-mode=ambient` label to a namespace:\n",
    "\n",
    "1. **Before Ambient Mode**:\n",
    "  * Services communicate directly using standard Kubernetes networking\n",
    "  * No service mesh features are available\n",
    "  * Traffic flows directly between pods without any interception\n",
    "  * No mTLS, observability, or traffic management capabilities\n",
    "2. **After Enabling Ambient Mode**:\n",
    "  * The CNI plugin automatically intercepts all pod traffic\n",
    "  * Traffic is redirected through the zTunnel proxy on each node\n",
    "  * Services gain immediate access to:\n",
    "  * mTLS encryption\n",
    "  * L4 observability\n",
    "  * Basic traffic management\n",
    "  * No pod restarts or sidecar injection required\n",
    "\n",
    "3. **Request Flow Changes**: \n",
    "```text\n",
    "Before:\n",
    "  Client Pod → Direct Network → Server Pod\n",
    "\n",
    "After:\n",
    "  Client Pod → Node zTunnel → Network → Node zTunnel → Server Pod\n",
    "```\n",
    "\n",
    "4. **Key Benefits**:\n",
    "  * Zero-trust security is automatically enabled\n",
    "  * Traffic is automatically encrypted with mTLS\n",
    "  * Connection-level metrics are collected\n",
    "  * No application changes required\n",
    "  * No pod restarts needed\n",
    "\n",
    "The transition to Ambient Mode is transparent to the applications, requiring no changes to the services themselves. This makes it an ideal way to incrementally adopt service mesh capabilities without disrupting existing workloads.\n",
    "\n",
    "Let's enable both the client and servers traffic to be captured by Istio's Ambient mode. "
   ]
  },
  {
   "cell_type": "code",
   "execution_count": 22,
   "metadata": {
    "vscode": {
     "languageId": "shellscript"
    }
   },
   "outputs": [
    {
     "name": "stdout",
     "output_type": "stream",
     "text": [
      "namespace/client labeled\n",
      "namespace/server labeled\n"
     ]
    }
   ],
   "source": [
    "kubectl label namespace client istio.io/dataplane-mode=ambient\n",
    "kubectl label namespace server istio.io/dataplane-mode=ambient"
   ]
  },
  {
   "cell_type": "markdown",
   "metadata": {},
   "source": [
    "### Verify Traffic is now on Ambient\n",
    "\n",
    "To verify that traffic is being properly intercepted and handled by Ambient Mode, we can examine the zTunnel logs on the nodes where our client and server pods are running. The zTunnel logs provide detailed information about the traffic flow, including:\n",
    "\n",
    "1. **Connection Details**:\n",
    "  * Source and destination pod information\n",
    "  * Service identities (mTLS certificates)\n",
    "  * Protocol and port information\n",
    "  * Request/response status\n",
    "2. **Traffic Flow Verification**:\n",
    "  * Look for http access log entries showing successful connections\n",
    "  * Verify the presence of service identities in the logs\n",
    "  * Confirm traffic is being routed through zTunnel\n",
    "  * Check for mTLS encryption indicators\n",
    "3. **Key Log Indicators**:\n",
    "  * `direction=\"outbound\"` or `direction=\"inbound\"` showing traffic direction\n",
    "  * `src.identity` and `dst.identity` showing mTLS authentication\n",
    "  * `protocol=HTTP1` indicating protocol type\n",
    "  * `response_code=200` showing successful connections\n",
    "4. **Expected Log Pattern**:\n",
    "```text\n",
    "   [timestamp] info http access request complete\n",
    "   src.addr=[source-ip]:[port]\n",
    "   src.workload=\"[source-pod]\"\n",
    "   src.namespace=\"[source-namespace]\"\n",
    "   src.identity=\"[source-identity]\"\n",
    "   dst.addr=[dest-ip]:[port]\n",
    "   dst.service=\"[dest-service]\"\n",
    "   dst.workload=\"[dest-pod]\"\n",
    "   dst.namespace=\"[dest-namespace]\"\n",
    "   dst.identity=\"[dest-identity]\"\n",
    "   direction=\"[inbound/outbound]\"\n",
    "   method=[HTTP-method]\n",
    "   path=[request-path]\n",
    "   protocol=[protocol]\n",
    "   response_code=[status-code]\n",
    "```"
   ]
  },
  {
   "cell_type": "code",
   "execution_count": 23,
   "metadata": {
    "vscode": {
     "languageId": "shellscript"
    }
   },
   "outputs": [
    {
     "name": "stdout",
     "output_type": "stream",
     "text": [
      "Checking zTunnel On Client Node\n",
      "2025-05-21T17:21:47.386850Z\tinfo\taccess\tconnection complete\tsrc.addr=10.244.2.7:38570 src.workload=\"client-8674db977d-9drnw\" src.namespace=\"client\" src.identity=\"spiffe://cluster.local/ns/client/sa/client\" dst.addr=10.244.2.8:15008 dst.hbone_addr=10.244.2.8:8080 dst.service=\"server.server.svc.cluster.local\" dst.workload=\"server-64bd684bc5-h5977\" dst.namespace=\"server\" dst.identity=\"spiffe://cluster.local/ns/server/sa/server\" direction=\"inbound\" bytes_sent=411 bytes_recv=142 duration=\"3ms\"\n",
      "2025-05-21T17:21:47.386900Z\tinfo\thttp access\trequest complete\tsrc.addr=10.244.2.9:36180 src.workload=\"traffic-generator\" src.namespace=\"default\" dst.addr=10.244.2.7:8080 dst.service=\"client.client.svc.cluster.local\" dst.workload=\"client-8674db977d-9drnw\" dst.namespace=\"client\" direction=\"inbound\" method=GET path=\"/\" protocol=HTTP1 response_code=200 host=\"client.client.svc.cluster.local:8080\" user_agent=\"curl/8.13.0\" duration=\"5ms\"\n",
      "2025-05-21T17:21:47.387093Z\tinfo\taccess\tconnection complete\tsrc.addr=10.244.2.9:36180 src.workload=\"traffic-generator\" src.namespace=\"default\" dst.addr=10.244.2.7:8080 dst.service=\"client.client.svc.cluster.local\" dst.workload=\"client-8674db977d-9drnw\" dst.namespace=\"client\" direction=\"inbound\" bytes_sent=1014 bytes_recv=100 duration=\"5ms\"\n",
      "\n",
      "\n",
      "Checking zTunnel On Server Node\n",
      "2025-05-21T17:21:47.386850Z\tinfo\taccess\tconnection complete\tsrc.addr=10.244.2.7:38570 src.workload=\"client-8674db977d-9drnw\" src.namespace=\"client\" src.identity=\"spiffe://cluster.local/ns/client/sa/client\" dst.addr=10.244.2.8:15008 dst.hbone_addr=10.244.2.8:8080 dst.service=\"server.server.svc.cluster.local\" dst.workload=\"server-64bd684bc5-h5977\" dst.namespace=\"server\" dst.identity=\"spiffe://cluster.local/ns/server/sa/server\" direction=\"inbound\" bytes_sent=411 bytes_recv=142 duration=\"3ms\"\n",
      "2025-05-21T17:21:47.386900Z\tinfo\thttp access\trequest complete\tsrc.addr=10.244.2.9:36180 src.workload=\"traffic-generator\" src.namespace=\"default\" dst.addr=10.244.2.7:8080 dst.service=\"client.client.svc.cluster.local\" dst.workload=\"client-8674db977d-9drnw\" dst.namespace=\"client\" direction=\"inbound\" method=GET path=\"/\" protocol=HTTP1 response_code=200 host=\"client.client.svc.cluster.local:8080\" user_agent=\"curl/8.13.0\" duration=\"5ms\"\n",
      "2025-05-21T17:21:47.387093Z\tinfo\taccess\tconnection complete\tsrc.addr=10.244.2.9:36180 src.workload=\"traffic-generator\" src.namespace=\"default\" dst.addr=10.244.2.7:8080 dst.service=\"client.client.svc.cluster.local\" dst.workload=\"client-8674db977d-9drnw\" dst.namespace=\"client\" direction=\"inbound\" bytes_sent=1014 bytes_recv=100 duration=\"5ms\"\n"
     ]
    }
   ],
   "source": [
    "## Verify Ambient is enabled\n",
    "printf \"Checking zTunnel On Client Node\\n\"\n",
    "zTunnelClientNode=$(kubectl get pods -n client -l app=client -o jsonpath='{.items[*].spec.nodeName}')\n",
    "zTunnelClientPod=$(kubectl get pods -n istio-system -l app=ztunnel -o jsonpath=\"{.items[?(@.spec.nodeName==\\\"$zTunnelClientNode\\\")].metadata.name}\")\n",
    "kubectl logs -n istio-system $zTunnelClientPod | grep -E \"inbound|outbound\" | tail -n 3\n",
    "printf \"\\n\\n\"\n",
    "printf \"Checking zTunnel On Server Node\\n\"\n",
    "zTunnelServerNode=$(kubectl get pods -n server -l app=server -o jsonpath='{.items[*].spec.nodeName}')\n",
    "zTunnelServerPod=$(kubectl get pods -n istio-system -l app=ztunnel -o jsonpath=\"{.items[?(@.spec.nodeName==\\\"$zTunnelServerNode\\\")].metadata.name}\")\n",
    "kubectl logs -n istio-system $zTunnelServerPod | grep -E \"inbound|outbound\" | tail -n 3"
   ]
  },
  {
   "cell_type": "markdown",
   "metadata": {},
   "source": [
    "## Observability\n",
    "\n",
    "![kiali](./images/kiali.png)\n",
    "\n",
    "Now that we have Ambient Mode enabled and traffic flowing through the mesh, we can visualize and analyze the service mesh behavior using the observability tools we installed earlier. This section focuses on using Kiali and Grafana to gain insights into the mesh's operation.\n",
    "\n",
    "**Kiali Dashboard**\n",
    "\n",
    "Kiali provides a comprehensive visualization of the service mesh, showing:\n",
    "* Service-to-service communication patterns\n",
    "* Traffic flow between services\n",
    "* mTLS encryption status\n",
    "* Request rates and response codes\n",
    "* Error rates and latency metrics\n",
    "\n",
    "To access the Kiali dashboard:"
   ]
  },
  {
   "cell_type": "code",
   "execution_count": 24,
   "metadata": {
    "vscode": {
     "languageId": "shellscript"
    }
   },
   "outputs": [
    {
     "name": "stdout",
     "output_type": "stream",
     "text": [
      "http://localhost:20001/kiali\n"
     ]
    }
   ],
   "source": [
    "istioctl dashboard kiali"
   ]
  },
  {
   "cell_type": "markdown",
   "metadata": {},
   "source": [
    "### Verifying Ambient Traffic in Kiali\n",
    "When examining the Kiali dashboard, there are several key indicators that confirm Ambient Mode is working correctly:\n",
    "1. Service Graph View:\n",
    "  * Look for the client and server services connected by a line\n",
    "  * The line should be solid (not dashed) indicating active traffic\n",
    "  * Hover over the connection to see:\n",
    "    * Request rates\n",
    "    * Error rates\n",
    "    * Response times\n",
    "    * Protocol information\n",
    "2. mTLS Status:\n",
    "  * Check the security badge on the service graph\n",
    "  * Should show \"mTLS: Enabled\" for both services\n",
    "  * This confirms that traffic is being encrypted by zTunnel\n",
    "3. Traffic Metrics:\n",
    "  * In the service details view, verify:\n",
    "    * Inbound and outbound traffic is present\n",
    "    * Request rates match your test traffic\n",
    "    * Response codes show successful requests (200s)\n",
    "    * No unexpected errors or failures\n",
    "4. Workload View:\n",
    "  * Confirm that workloads are shown without sidecars\n",
    "  * Look for the \"Ambient\" label on the workloads\n",
    "  * Verify that traffic is being routed through zTunnel\n",
    "5. Traffic Distribution:\n",
    "  * Check that traffic is flowing between the correct services\n",
    "  * Verify that the traffic paths match the expected Ambient Mode routing\n",
    "  * Confirm that no direct pod-to-pod traffic is occurring\n",
    "6. Health Indicators:\n",
    "  * Services should show as \"Healthy\"\n",
    "  * No critical errors or warnings should be present\n",
    "  * Traffic should be flowing without interruption\n",
    "\n",
    "These indicators help confirm that:\n",
    "  * Ambient Mode is properly enabled\n",
    "  * Traffic is being correctly intercepted\n",
    "  * mTLS is working as expected\n",
    "  * Services are communicating securely\n",
    "  * The mesh is functioning as designed"
   ]
  },
  {
   "cell_type": "markdown",
   "metadata": {},
   "source": [
    "### Grafana Monitoring\n",
    "\n",
    "![Grafana](./images/zTunnel-grafana.png)\n",
    "\n",
    "Istio provides a comprehensive set of pre-built Grafana dashboards that help monitor and analyze the health of your service mesh deployment. These dashboards are automatically installed with the observability stack and provide insights at different levels of the mesh:\n",
    "\n",
    "1. Istio Service Dashboard:\n",
    "  * Service-level metrics and health indicators\n",
    "  * Request rates and latencies\n",
    "  * Error rates and types\n",
    "  * Protocol-specific metrics\n",
    "  * Client and server performance\n",
    "2. Istio Workload Dashboard:\n",
    "  * Workload-specific performance metrics\n",
    "  * Resource utilization\n",
    "  * Request success rates\n",
    "  * Response time distributions\n",
    "  * Error breakdowns\n",
    "3. Istio Control Plane Dashboard:\n",
    "  * istiod performance metrics\n",
    "  * Configuration distribution status\n",
    "  * Resource usage of control plane components\n",
    "  * Error rates and types\n",
    "  * Cache hit/miss ratios\n",
    "4. Istio Mesh Dashboard:\n",
    "  * Mesh-wide overview\n",
    "  * Global request rates\n",
    "  * Error distribution\n",
    "  * Traffic patterns\n",
    "  * Security metrics\n",
    "5. Istio Ztunnel Dashboard\n",
    "  * Versions deployed\n",
    "  * Resource consumption\n",
    "  * Traffic flow\n",
    "  * DNS requests\n",
    "  * xDS communication\n",
    "\n",
    "Run the following command to explore the Grafana dashboards. "
   ]
  },
  {
   "cell_type": "code",
   "execution_count": 25,
   "metadata": {
    "vscode": {
     "languageId": "shellscript"
    }
   },
   "outputs": [
    {
     "name": "stdout",
     "output_type": "stream",
     "text": [
      "http://localhost:3000\n"
     ]
    }
   ],
   "source": [
    "istioctl dashboard grafana"
   ]
  },
  {
   "cell_type": "markdown",
   "metadata": {},
   "source": [
    "### Navigate to Dashboards\n",
    "* Click on the \"Dashboards\" icon in the left sidebar (looks like four squares)\n",
    "  * Select \"Browse\" from the dropdown menu\n",
    "* You'll see several pre-configured Istio dashboards:\n",
    "  * Istio Service Dashboard\n",
    "  * Istio Workload Dashboard\n",
    "  * Istio Control Plane Dashboard\n",
    "  * Istio Mesh Dashboard\n",
    "  * Istio Ztunnel Dashboard"
   ]
  },
  {
   "cell_type": "markdown",
   "metadata": {},
   "source": [
    "## Troubleshooting \n",
    "\n",
    "In this section, we'll explore how to diagnose and resolve common issues in an Ambient Mode deployment. We'll use the tools and knowledge gained from previous sections to identify and fix problems.\n",
    "\n",
    "**Common Issues and Diagnostic Steps**\n",
    "1. Network Policy Issues:\n",
    "  * Apply a restrictive NetworkPolicy to simulate connectivity problems\n",
    "  * Use zTunnel logs to identify connection failures\n",
    "  * Check Kiali for traffic flow disruptions\n",
    "  * Verify mTLS status in the service graph\n",
    "2. zTunnel Logging:\n",
    "  * Adjust log levels to focus on specific issues\n",
    "  * Monitor connection attempts and failures\n",
    "  * Check for authentication and encryption problems\n",
    "  * Verify traffic interception\n",
    "3. Metrics and Monitoring:\n",
    "  * Use Grafana dashboards to identify:\n",
    "    * Increased error rates\n",
    "    * Latency spikes\n",
    "    * Connection failures\n",
    "    * Resource constraints\n",
    "  * Check Kiali for:\n",
    "    * Broken service connections\n",
    "    * Failed mTLS handshakes\n",
    "    * Traffic routing issues\n",
    "4. Control Plane Health:\n",
    "  * Monitor istiod logs for configuration issues\n",
    "  * Check control plane metrics for:\n",
    "    * Configuration distribution problems\n",
    "    * Resource utilization\n",
    "    * Error rates\n",
    "  * Verify certificate management\n",
    "5. Diagnostic Tools:\n",
    "  * Use istioctl commands for:\n",
    "    * Configuration validation\n",
    "    * Proxy status checks\n",
    "    * Certificate verification\n",
    "  * Check pod logs for application-level issues\n",
    "  * Verify network policies and service configurations\n",
    "\n",
    "This section will help you develop a systematic approach to troubleshooting Ambient Mode deployments, using the observability tools and logs to identify and resolve issues.\n",
    "\n",
    "\n",
    "First lets introduce a network policy that will deny all traffic to the `server`. This will serve as our traffic issue we will need to investigate."
   ]
  },
  {
   "cell_type": "markdown",
   "metadata": {},
   "source": [
    "```yaml\n",
    "apiVersion: networking.k8s.io/v1\n",
    "kind: NetworkPolicy\n",
    "metadata:\n",
    "  name: deny-all-to-server\n",
    "  namespace: server\n",
    "spec:\n",
    "  podSelector:\n",
    "    matchLabels:\n",
    "      app: server\n",
    "  policyTypes:\n",
    "    - Ingress\n",
    "  ingress: []\n",
    "```"
   ]
  },
  {
   "cell_type": "code",
   "execution_count": 26,
   "metadata": {
    "vscode": {
     "languageId": "shellscript"
    }
   },
   "outputs": [
    {
     "name": "stdout",
     "output_type": "stream",
     "text": [
      "networkpolicy.networking.k8s.io/deny-all-to-server created\n",
      "deployment.apps/server restarted\n"
     ]
    }
   ],
   "source": [
    "kubectl apply -f data/networkpolicy.yaml\n",
    "\n",
    "kubectl rollout restart deployment server -n server"
   ]
  },
  {
   "cell_type": "markdown",
   "metadata": {},
   "source": [
    "At scale it may not be advisable to print every access log that travels through zTunnel. We are going to update zTunnel to only log errors."
   ]
  },
  {
   "cell_type": "code",
   "execution_count": 27,
   "metadata": {
    "vscode": {
     "languageId": "shellscript"
    }
   },
   "outputs": [
    {
     "name": "stdout",
     "output_type": "stream",
     "text": [
      "Pulled: us-docker.pkg.dev/soloio-img/istio-helm/ztunnel:1.25.2-solo\n",
      "Digest: sha256:c413d0e09d928c8faf92aaa36ea57324d30b0406e26274f0b93b641b08f28bb2\n",
      "Release \"ztunnel\" has been upgraded. Happy Helming!\n",
      "NAME: ztunnel\n",
      "LAST DEPLOYED: Wed May 21 12:22:43 2025\n",
      "NAMESPACE: istio-system\n",
      "STATUS: deployed\n",
      "REVISION: 2\n",
      "TEST SUITE: None\n",
      "NOTES:\n",
      "ztunnel successfully installed!\n",
      "\n",
      "To learn more about the release, try:\n",
      "  $ helm status ztunnel -n istio-system\n",
      "  $ helm get all ztunnel -n istio-system\n"
     ]
    }
   ],
   "source": [
    "# Install zTunnel with log level set to error\n",
    "helm upgrade -i ztunnel \"$ISTIO_HELM_CHART\"/ztunnel                           \\\n",
    "    --version \"${ISTIO_VER}-solo\"                                             \\\n",
    "    --namespace istio-system                                                  \\\n",
    "    --set \"hub=${ISTIO_REPO}\"                                                 \\\n",
    "    --set \"tag=${ISTIO_VER}-solo\"                                             \\\n",
    "    --set profile=ambient                                                     \\\n",
    "    --set \"l7Telemetry.accessLog.enabled=false\"                               \\\n",
    "    --set \"l7Telemetry.accessLog.skipConnectionLog=true\"                      \\\n",
    "    --set \"l7Telemetry.distributedTracing.enabled=false\"                      \\\n",
    "    --set logLevel=\"info\\,access=warn\"                                        \\\n",
    "    --wait"
   ]
  },
  {
   "cell_type": "markdown",
   "metadata": {},
   "source": [
    "## Verify Traffic\n",
    "\n",
    "Let's go ahead and see if traffic from the client is able to reach the server."
   ]
  },
  {
   "cell_type": "code",
   "execution_count": 29,
   "metadata": {
    "vscode": {
     "languageId": "shellscript"
    }
   },
   "outputs": [
    {
     "name": "stdout",
     "output_type": "stream",
     "text": [
      "^Ccommand terminated with exit code 130\n"
     ]
    }
   ],
   "source": [
    "kubectl exec -it -n client -c client $(kubectl get pod -n client -l app=client -o jsonpath='{.items[0].metadata.name}') -- sh -c \"curl -s http://server.server.svc.cluster.local:8080/hello\""
   ]
  },
  {
   "cell_type": "markdown",
   "metadata": {},
   "source": [
    "* Look at access logs on ztunnel where server is running"
   ]
  },
  {
   "cell_type": "code",
   "execution_count": 31,
   "metadata": {
    "vscode": {
     "languageId": "shellscript"
    }
   },
   "outputs": [
    {
     "name": "stdout",
     "output_type": "stream",
     "text": [
      "Checking zTunnel On Server Node\n",
      "2025-05-21T17:23:09.236809Z\terror\taccess\tconnection complete\tsrc.addr=10.244.2.7:42816 src.workload=\"client-8674db977d-9drnw\" src.namespace=\"client\" src.identity=\"spiffe://cluster.local/ns/client/sa/client\" dst.addr=10.244.2.10:15008 dst.hbone_addr=10.244.2.10:8080 dst.service=\"server.server.svc.cluster.local\" dst.workload=\"server-79b9f6f96d-dwswc\" dst.namespace=\"server\" dst.identity=\"spiffe://cluster.local/ns/server/sa/server\" direction=\"outbound\" bytes_sent=0 bytes_recv=0 duration=\"15943ms\" error=\"connection timed out, maybe a NetworkPolicy is blocking HBONE port 15008: deadline has elapsed\"\n",
      "2025-05-21T17:23:19.239856Z\terror\taccess\tconnection complete\tsrc.addr=10.244.2.7:48416 src.workload=\"client-8674db977d-9drnw\" src.namespace=\"client\" src.identity=\"spiffe://cluster.local/ns/client/sa/client\" dst.addr=10.244.2.10:15008 dst.hbone_addr=10.244.2.10:8080 dst.service=\"server.server.svc.cluster.local\" dst.workload=\"server-79b9f6f96d-dwswc\" dst.namespace=\"server\" dst.identity=\"spiffe://cluster.local/ns/server/sa/server\" direction=\"outbound\" bytes_sent=0 bytes_recv=0 duration=\"18988ms\" error=\"connection timed out, maybe a NetworkPolicy is blocking HBONE port 15008: deadline has elapsed\"\n",
      "2025-05-21T17:23:29.243055Z\terror\taccess\tconnection complete\tsrc.addr=10.244.2.7:48426 src.workload=\"client-8674db977d-9drnw\" src.namespace=\"client\" src.identity=\"spiffe://cluster.local/ns/client/sa/client\" dst.addr=10.244.2.10:15008 dst.hbone_addr=10.244.2.10:8080 dst.service=\"server.server.svc.cluster.local\" dst.workload=\"server-79b9f6f96d-dwswc\" dst.namespace=\"server\" dst.identity=\"spiffe://cluster.local/ns/server/sa/server\" direction=\"outbound\" bytes_sent=0 bytes_recv=0 duration=\"27235ms\" error=\"connection timed out, maybe a NetworkPolicy is blocking HBONE port 15008: deadline has elapsed\"\n"
     ]
    }
   ],
   "source": [
    "printf \"Checking zTunnel On Server Node\\n\"\n",
    "zTunnelServerNode=$(kubectl get pods -n server -l app=server -o jsonpath='{.items[*].spec.nodeName}')\n",
    "zTunnelServerPod=$(kubectl get pods -n istio-system -l app=ztunnel -o jsonpath=\"{.items[?(@.spec.nodeName==\\\"$zTunnelServerNode\\\")].metadata.name}\")\n",
    "kubectl logs -n istio-system $zTunnelServerPod | grep \"connection complete\" | tail -n 3"
   ]
  }
 ],
 "metadata": {
  "kernelspec": {
   "display_name": "Bash",
   "language": "bash",
   "name": "bash"
  },
  "language_info": {
   "codemirror_mode": "shell",
   "file_extension": ".sh",
   "mimetype": "text/x-sh",
   "name": "bash"
  }
 },
 "nbformat": 4,
 "nbformat_minor": 2
}
