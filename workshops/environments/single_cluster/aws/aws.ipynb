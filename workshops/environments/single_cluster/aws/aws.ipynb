{
 "cells": [
  {
   "cell_type": "markdown",
   "metadata": {},
   "source": [
    "# Single-Node EKS Cluster Setup\n",
    "\n",
    "This notebook guides you through the process of creating a single-node EKS (Elastic Kubernetes Service) cluster on AWS and configuring kubectl to manage it."
   ]
  },
  {
   "cell_type": "markdown",
   "metadata": {},
   "source": [
    "## Setup aws cli\n",
    "\n",
    "My company uses sso, so running `aws configure sso` would e appropriate. You can use whichever method works best so long as the user is able to create EKS clusters, IAM Rols, VPCs and Node Groups."
   ]
  },
  {
   "cell_type": "markdown",
   "metadata": {},
   "source": [
    "## Set Variables\n",
    "\n",
    "First, let's set the variables we'll use throughout this process:"
   ]
  },
  {
   "cell_type": "code",
   "execution_count": null,
   "metadata": {
    "vscode": {
     "languageId": "shellscript"
    }
   },
   "outputs": [],
   "source": [
    "# Set variables\n",
    "export CLUSTER_NAME=\"my-single-node-cluster\"\n",
    "export REGION=\"us-east-1\"  # Change this to your preferred region\n",
    "export NODE_GROUP_NAME=\"single-node-group\"\n",
    "export NODE_INSTANCE_TYPE=\"t3.medium\"  # Smallest recommended size for EKS\n",
    "export NODE_COUNT=1\n"
   ]
  },
  {
   "cell_type": "markdown",
   "metadata": {},
   "source": [
    "## Step 1: Create IAM Role for EKS Cluster\n",
    "\n",
    "Create an IAM role that the EKS service can assume to manage cluster resources:"
   ]
  },
  {
   "cell_type": "code",
   "execution_count": null,
   "metadata": {
    "vscode": {
     "languageId": "shellscript"
    }
   },
   "outputs": [],
   "source": [
    "echo \"Creating IAM role for EKS cluster...\"\n",
    "aws iam create-role \\\n",
    "  --role-name EKSClusterRole \\\n",
    "  --assume-role-policy-document '{\n",
    "    \"Version\": \"2012-10-17\",\n",
    "    \"Statement\": [\n",
    "      {\n",
    "        \"Effect\": \"Allow\",\n",
    "        \"Principal\": {\n",
    "          \"Service\": \"eks.amazonaws.com\"\n",
    "        },\n",
    "        \"Action\": \"sts:AssumeRole\"\n",
    "      }\n",
    "    ]\n",
    "  }'\n",
    "\n",
    "# Attach required policies to the role\n",
    "aws iam attach-role-policy \\\n",
    "  --role-name EKSClusterRole \\\n",
    "  --policy-arn arn:aws:iam::aws:policy/AmazonEKSClusterPolicy"
   ]
  },
  {
   "cell_type": "markdown",
   "metadata": {},
   "source": [
    "## Step 2: Create IAM Role for EKS Node Group\n",
    "\n",
    "Create an IAM role for the worker nodes that will run in the EKS cluster:"
   ]
  },
  {
   "cell_type": "code",
   "execution_count": null,
   "metadata": {
    "vscode": {
     "languageId": "shellscript"
    }
   },
   "outputs": [],
   "source": [
    "echo \"Creating IAM role for EKS node group...\"\n",
    "aws iam create-role \\\n",
    "  --role-name EKSNodeRole \\\n",
    "  --assume-role-policy-document '{\n",
    "    \"Version\": \"2012-10-17\",\n",
    "    \"Statement\": [\n",
    "      {\n",
    "        \"Effect\": \"Allow\",\n",
    "        \"Principal\": {\n",
    "          \"Service\": \"ec2.amazonaws.com\"\n",
    "        },\n",
    "        \"Action\": \"sts:AssumeRole\"\n",
    "      }\n",
    "    ]\n",
    "  }'\n",
    "\n",
    "# Attach required policies to the node role\n",
    "aws iam attach-role-policy \\\n",
    "  --role-name EKSNodeRole \\\n",
    "  --policy-arn arn:aws:iam::aws:policy/AmazonEKSWorkerNodePolicy\n",
    "\n",
    "aws iam attach-role-policy \\\n",
    "  --role-name EKSNodeRole \\\n",
    "  --policy-arn arn:aws:iam::aws:policy/AmazonEKS_CNI_Policy\n",
    "\n",
    "aws iam attach-role-policy \\\n",
    "  --role-name EKSNodeRole \\\n",
    "  --policy-arn arn:aws:iam::aws:policy/AmazonEC2ContainerRegistryReadOnly"
   ]
  },
  {
   "cell_type": "markdown",
   "metadata": {},
   "source": [
    "## Step 3: Create VPC for EKS\n",
    "\n",
    "Create a VPC using AWS CloudFormation template specifically designed for EKS:"
   ]
  },
  {
   "cell_type": "code",
   "execution_count": null,
   "metadata": {
    "vscode": {
     "languageId": "shellscript"
    }
   },
   "outputs": [],
   "source": [
    "echo \"Creating VPC for EKS...\"\n",
    "aws cloudformation create-stack \\\n",
    "  --stack-name eks-vpc \\\n",
    "  --template-url https://s3.us-west-2.amazonaws.com/amazon-eks/cloudformation/2020-10-29/amazon-eks-vpc-private-subnets.yaml\n",
    "\n",
    "# Wait for the VPC creation to complete\n",
    "echo \"Waiting for VPC creation to complete...\"\n",
    "aws cloudformation wait stack-create-complete --stack-name eks-vpc"
   ]
  },
  {
   "cell_type": "markdown",
   "metadata": {},
   "source": [
    "## Get VPC and Subnet Information\n",
    "\n",
    "Retrieve the VPC and subnet IDs created by CloudFormation and create a security group:"
   ]
  },
  {
   "cell_type": "code",
   "execution_count": null,
   "metadata": {
    "vscode": {
     "languageId": "shellscript"
    }
   },
   "outputs": [],
   "source": [
    "# Get VPC and subnet information\n",
    "VPC_ID=$(aws cloudformation describe-stacks --stack-name eks-vpc --query \"Stacks[0].Outputs[?OutputKey=='VpcId'].OutputValue\" --output text)\n",
    "SUBNET_IDS=$(aws cloudformation describe-stacks --stack-name eks-vpc --query \"Stacks[0].Outputs[?OutputKey=='SubnetIds'].OutputValue\" --output text)\n",
    "SECURITY_GROUP_ID=$(aws ec2 create-security-group --group-name eks-cluster-sg --description \"Security group for EKS cluster\" --vpc-id $VPC_ID --output text --query \"GroupId\")\n",
    "\n",
    "# Allow inbound traffic within the security group\n",
    "aws ec2 authorize-security-group-ingress \\\n",
    "  --group-id $SECURITY_GROUP_ID \\\n",
    "  --protocol all \\\n",
    "  --source-group $SECURITY_GROUP_ID\n",
    "\n",
    "echo \"VPC ID: $VPC_ID\"\n",
    "echo \"Subnet IDs: $SUBNET_IDS\"\n",
    "echo \"Security Group ID: $SECURITY_GROUP_ID\""
   ]
  },
  {
   "cell_type": "markdown",
   "metadata": {},
   "source": [
    "## Step 4: Create EKS Cluster\n",
    "\n",
    "Create the EKS cluster using the IAM role and networking resources we've set up:"
   ]
  },
  {
   "cell_type": "code",
   "execution_count": null,
   "metadata": {
    "vscode": {
     "languageId": "shellscript"
    }
   },
   "outputs": [],
   "source": [
    "echo \"Creating EKS cluster ${CLUSTER_NAME}...\"\n",
    "aws eks create-cluster \\\n",
    "  --name ${CLUSTER_NAME} \\\n",
    "  --role-arn $(aws iam get-role --role-name EKSClusterRole --query \"Role.Arn\" --output text) \\\n",
    "  --resources-vpc-config subnetIds=${SUBNET_IDS},securityGroupIds=${SECURITY_GROUP_ID}\n",
    "\n",
    "# Wait for the cluster to be active\n",
    "echo \"Waiting for EKS cluster to become active (this might take 10-15 minutes)...\"\n",
    "aws eks wait cluster-active --name ${CLUSTER_NAME} --region ${REGION}"
   ]
  },
  {
   "cell_type": "markdown",
   "metadata": {},
   "source": [
    "## Step 5: Create a Node Group with a Single Node\n",
    "\n",
    "Create a node group that will manage our single worker node:"
   ]
  },
  {
   "cell_type": "code",
   "execution_count": null,
   "metadata": {
    "vscode": {
     "languageId": "shellscript"
    }
   },
   "outputs": [],
   "source": [
    "echo \"Creating node group with a single node...\"\n",
    "aws eks create-nodegroup \\\n",
    "  --cluster-name ${CLUSTER_NAME} \\\n",
    "  --nodegroup-name ${NODE_GROUP_NAME} \\\n",
    "  --node-role $(aws iam get-role --role-name EKSNodeRole --query \"Role.Arn\" --output text) \\\n",
    "  --subnets $(echo $SUBNET_IDS | tr ',' ' ') \\\n",
    "  --scaling-config minSize=1,maxSize=1,desiredSize=1 \\\n",
    "  --instance-types ${NODE_INSTANCE_TYPE}\n",
    "\n",
    "# Wait for the node group to be active\n",
    "echo \"Waiting for node group to become active (this might take 5-10 minutes)...\"\n",
    "aws eks wait nodegroup-active \\\n",
    "  --cluster-name ${CLUSTER_NAME} \\\n",
    "  --nodegroup-name ${NODE_GROUP_NAME} \\\n",
    "  --region ${REGION}"
   ]
  },
  {
   "cell_type": "markdown",
   "metadata": {},
   "source": [
    "## Step 6: Configure kubectl\n",
    "\n",
    "Update the kubectl configuration to connect to the new EKS cluster:"
   ]
  },
  {
   "cell_type": "code",
   "execution_count": null,
   "metadata": {
    "vscode": {
     "languageId": "shellscript"
    }
   },
   "outputs": [],
   "source": [
    "# Update kubeconfig to set the context to the new cluster\n",
    "echo \"Updating kubeconfig to set context to the new cluster...\"\n",
    "aws eks update-kubeconfig --name ${CLUSTER_NAME} --region ${REGION}"
   ]
  },
  {
   "cell_type": "markdown",
   "metadata": {},
   "source": [
    "## Verify Cluster Connection\n",
    "\n",
    "Verify that kubectl can connect to the cluster and retrieve node information:"
   ]
  },
  {
   "cell_type": "code",
   "execution_count": null,
   "metadata": {
    "vscode": {
     "languageId": "shellscript"
    }
   },
   "outputs": [],
   "source": [
    "# Verify the cluster connection\n",
    "echo \"Verifying connection to the cluster...\"\n",
    "kubectl get nodes"
   ]
  },
  {
   "cell_type": "code",
   "execution_count": null,
   "metadata": {
    "vscode": {
     "languageId": "shellscript"
    }
   },
   "outputs": [],
   "source": [
    "echo \"EKS single-node cluster setup complete. Your kubectl context has been set to ${CLUSTER_NAME}\"\n",
    "echo \"Current context: $(kubectl config current-context)\""
   ]
  },
  {
   "cell_type": "markdown",
   "metadata": {},
   "source": [
    "## Cleanup (Optional)\n",
    "\n",
    "When you're done with the cluster, you can use the following commands to clean up resources and avoid ongoing charges:"
   ]
  },
  {
   "cell_type": "code",
   "execution_count": null,
   "metadata": {
    "vscode": {
     "languageId": "shellscript"
    }
   },
   "outputs": [],
   "source": [
    "# Delete the node group\n",
    "# aws eks delete-nodegroup --cluster-name ${CLUSTER_NAME} --nodegroup-name ${NODE_GROUP_NAME} --region ${REGION}\n",
    "# echo \"Waiting for node group deletion...\"\n",
    "# aws eks wait nodegroup-deleted --cluster-name ${CLUSTER_NAME} --nodegroup-name ${NODE_GROUP_NAME} --region ${REGION}\n",
    "\n",
    "# Delete the cluster\n",
    "# aws eks delete-cluster --name ${CLUSTER_NAME} --region ${REGION}\n",
    "# echo \"Waiting for cluster deletion...\"\n",
    "# aws eks wait cluster-deleted --name ${CLUSTER_NAME} --region ${REGION}\n",
    "\n",
    "# Delete the security group\n",
    "# aws ec2 delete-security-group --group-id ${SECURITY_GROUP_ID}\n",
    "\n",
    "# Delete the VPC CloudFormation stack\n",
    "# aws cloudformation delete-stack --stack-name eks-vpc\n",
    "\n",
    "# Delete IAM roles and policies\n",
    "# aws iam detach-role-policy --role-name EKSNodeRole --policy-arn arn:aws:iam::aws:policy/AmazonEKSWorkerNodePolicy\n",
    "# aws iam detach-role-policy --role-name EKSNodeRole --policy-arn arn:aws:iam::aws:policy/AmazonEKS_CNI_Policy\n",
    "# aws iam detach-role-policy --role-name EKSNodeRole --policy-arn arn:aws:iam::aws:policy/AmazonEC2ContainerRegistryReadOnly\n",
    "# aws iam delete-role --role-name EKSNodeRole\n",
    "\n",
    "# aws iam detach-role-policy --role-name EKSClusterRole --policy-arn arn:aws:iam::aws:policy/AmazonEKSClusterPolicy\n",
    "# aws iam delete-role --role-name EKSClusterRole"
   ]
  }
 ],
 "metadata": {
  "kernelspec": {
   "display_name": "Bash",
   "language": "bash",
   "name": "bash"
  },
  "language_info": {
   "codemirror_mode": "shell",
   "file_extension": ".sh",
   "mimetype": "text/x-sh",
   "name": "bash"
  }
 },
 "nbformat": 4,
 "nbformat_minor": 4
}
